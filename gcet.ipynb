{
  "nbformat": 4,
  "nbformat_minor": 0,
  "metadata": {
    "colab": {
      "name": "gcet.ipynb",
      "provenance": []
    },
    "kernelspec": {
      "name": "python3",
      "display_name": "Python 3"
    },
    "language_info": {
      "name": "python"
    },
    "accelerator": "GPU"
  },
  "cells": [
    {
      "cell_type": "markdown",
      "source": [
        "# **Include Header Files**"
      ],
      "metadata": {
        "id": "6tKnMZWqy_qb"
      }
    },
    {
      "cell_type": "code",
      "execution_count": 1,
      "metadata": {
        "id": "DDj_mVBxw6XT"
      },
      "outputs": [],
      "source": [
        "import numpy as np\n",
        "import cv2\n",
        "import matplotlib.pyplot as plt\n",
        "import os"
      ]
    },
    {
      "cell_type": "markdown",
      "source": [
        "#  **Include Dataset**"
      ],
      "metadata": {
        "id": "So-g9vlgzP0x"
      }
    },
    {
      "cell_type": "code",
      "source": [
        "!unzip \"/content/drive/MyDrive/Baby_fingerprint (1).zip\" -d \"Dataset\""
      ],
      "metadata": {
        "id": "ocAyJ-VEzTRs"
      },
      "execution_count": null,
      "outputs": []
    },
    {
      "cell_type": "code",
      "source": [
        "!pip install split-folders"
      ],
      "metadata": {
        "colab": {
          "base_uri": "https://localhost:8080/"
        },
        "id": "bCDr_LTP0U5O",
        "outputId": "96d16871-0fef-48ac-ed14-23dba5468a14"
      },
      "execution_count": 5,
      "outputs": [
        {
          "output_type": "stream",
          "name": "stdout",
          "text": [
            "Collecting split-folders\n",
            "  Downloading split_folders-0.5.1-py3-none-any.whl (8.4 kB)\n",
            "Installing collected packages: split-folders\n",
            "Successfully installed split-folders-0.5.1\n"
          ]
        }
      ]
    },
    {
      "cell_type": "code",
      "source": [
        "import splitfolders\n",
        "\n",
        "\n",
        "splitfolders.ratio(\"/content/Dataset/Baby_fingerprint\", output=\"/content/Output\",\n",
        "    seed=1337, ratio=(.9, .1), group_prefix=None, move=False) "
      ],
      "metadata": {
        "colab": {
          "base_uri": "https://localhost:8080/"
        },
        "id": "0kTPEWWSzyBa",
        "outputId": "6395da20-aae8-428d-9e49-d32805f8094a"
      },
      "execution_count": 6,
      "outputs": [
        {
          "output_type": "stream",
          "name": "stderr",
          "text": [
            "Copying files: 28 files [00:00, 2080.40 files/s]\n"
          ]
        }
      ]
    },
    {
      "cell_type": "markdown",
      "source": [
        "# **Spend Variables**"
      ],
      "metadata": {
        "id": "vfMdvohB0wad"
      }
    },
    {
      "cell_type": "code",
      "source": [
        "count = 0\n",
        "lis=[]\n",
        "for folder in os.listdir(\"/content/Output/train\"):\n",
        "  for imgs in os.listdir(\"/content/Output/train/\"+folder):\n",
        "    img= cv2.imread(\"/content/Output/train/\"+folder+\"/\"+imgs,1)\n",
        "    lis.append(count)\n",
        "    count =  count + 1\n",
        "    #print(count)\n",
        "\n",
        "    imgArray = np.array(img)\n",
        "    #print(imgArray)\n",
        "\n",
        "\n",
        "    labels = np.array(lis)\n",
        "\n",
        "np.save('/content/Csv-Files/x_real.npy', imgArray)\n",
        "np.save('/content/Csv-Files/y_real.npy', labels)"
      ],
      "metadata": {
        "id": "bOxCyOvW02c4"
      },
      "execution_count": 14,
      "outputs": []
    },
    {
      "cell_type": "code",
      "source": [
        "count = 0\n",
        "lis=[]\n",
        "for folder in os.listdir(\"/content/Output/test\"):\n",
        "  for imgs in os.listdir(\"/content/Output/test/\"+folder):\n",
        "    img= cv2.imread(\"/content/Output/test/\"+folder+\"/\"+imgs,1)\n",
        "    lis.append(count)\n",
        "    count =  count + 1\n",
        "    #print(count)\n",
        "\n",
        "    imgArray2 = np.array(img)\n",
        "    #print(imgArray)\n",
        "\n",
        "\n",
        "    labels2 = np.array(lis)\n",
        "\n",
        "np.save('/content/Csv-Files/x_easy.npy', imgArray2)\n",
        "np.save('/content/Csv-Files/y_easy.npy', labels2)"
      ],
      "metadata": {
        "id": "X_vC4-M998Vp"
      },
      "execution_count": null,
      "outputs": []
    }
  ]
}