{
  "nbformat": 4,
  "nbformat_minor": 0,
  "metadata": {
    "colab": {
      "name": "Fingerprint_Recognition.ipynb",
      "provenance": [],
      "include_colab_link": true
    },
    "kernelspec": {
      "name": "python3",
      "display_name": "Python 3"
    },
    "language_info": {
      "name": "python"
    },
    "accelerator": "GPU"
  },
  "cells": [
    {
      "cell_type": "markdown",
      "metadata": {
        "id": "view-in-github",
        "colab_type": "text"
      },
      "source": [
        "<a href=\"https://colab.research.google.com/github/PRAN20/Fingerprint-Recognition-Infant/blob/main/Fingerprint_Recognition.ipynb\" target=\"_parent\"><img src=\"https://colab.research.google.com/assets/colab-badge.svg\" alt=\"Open In Colab\"/></a>"
      ]
    },
    {
      "cell_type": "markdown",
      "source": [
        "# **Import Header Files**"
      ],
      "metadata": {
        "id": "FxKSUHSE87yr"
      }
    },
    {
      "cell_type": "code",
      "execution_count": null,
      "metadata": {
        "id": "XW4Dp4-q8nv1"
      },
      "outputs": [],
      "source": [
        "import numpy as np\n",
        "import matplotlib.pyplot as plt\n",
        "\n",
        "import tensorflow as tf\n",
        "from tensorflow import keras\n",
        "from tensorflow.keras import layers\n",
        "from tensorflow.keras import optimizers\n",
        "from tensorflow.keras.models import Model\n",
        "\n",
        "from sklearn.utils import shuffle\n",
        "from sklearn.model_selection import train_test_split\n",
        "import random\n",
        "\n",
        "import os\n",
        "import datetime"
      ]
    },
    {
      "cell_type": "markdown",
      "source": [
        "# **Importing DataSet**"
      ],
      "metadata": {
        "id": "HcMt5_279jdB"
      }
    },
    {
      "cell_type": "code",
      "source": [
        "img_data = np.load('/content/x_real.npy')\n",
        "label_data = np.load('/content/y_real.npy')\n",
        "img_real = np.load('/content/x_easy.npy')\n",
        "label_real = np.load('/content/y_easy.npy')"
      ],
      "metadata": {
        "id": "BNXQYg0Y92SR"
      },
      "execution_count": null,
      "outputs": []
    },
    {
      "cell_type": "code",
      "source": [
        "print(img_data.shape)"
      ],
      "metadata": {
        "colab": {
          "base_uri": "https://localhost:8080/"
        },
        "id": "_U-5NitM-sDq",
        "outputId": "fdf9df81-8a03-4106-ea9b-84d1493d3710"
      },
      "execution_count": null,
      "outputs": [
        {
          "output_type": "stream",
          "name": "stdout",
          "text": [
            "(800, 160, 160, 1)\n"
          ]
        }
      ]
    },
    {
      "cell_type": "code",
      "source": [
        "print(label_data.shape)"
      ],
      "metadata": {
        "colab": {
          "base_uri": "https://localhost:8080/"
        },
        "id": "c58m4Fjp-t4h",
        "outputId": "159f6492-9e57-452f-dff6-180c0d6c53e5"
      },
      "execution_count": null,
      "outputs": [
        {
          "output_type": "stream",
          "name": "stdout",
          "text": [
            "(800, 1)\n"
          ]
        }
      ]
    },
    {
      "cell_type": "code",
      "source": [
        "print(img_real.shape)"
      ],
      "metadata": {
        "colab": {
          "base_uri": "https://localhost:8080/"
        },
        "id": "V-mUXjgc-x0t",
        "outputId": "77a743d8-ccf7-4c26-a776-dcb65e2e89cf"
      },
      "execution_count": null,
      "outputs": [
        {
          "output_type": "stream",
          "name": "stdout",
          "text": [
            "(10, 160, 160, 1)\n"
          ]
        }
      ]
    },
    {
      "cell_type": "code",
      "source": [
        "print(label_real.shape)"
      ],
      "metadata": {
        "colab": {
          "base_uri": "https://localhost:8080/"
        },
        "id": "6Rtr47Zz-4VL",
        "outputId": "f68177a9-de6b-4ae1-9df8-14fb1a416f20"
      },
      "execution_count": null,
      "outputs": [
        {
          "output_type": "stream",
          "name": "stdout",
          "text": [
            "(10, 1)\n"
          ]
        }
      ]
    },
    {
      "cell_type": "markdown",
      "source": [
        "# **Histogram Stretch**"
      ],
      "metadata": {
        "id": "z4Rk0Uhw_BKo"
      }
    },
    {
      "cell_type": "code",
      "source": [
        "def hist_stretch(img_buf, width, height, shift):\n",
        "    tmp1 = 0\n",
        "    tmp2 = 0\n",
        "    w_pHistBuf = np.zeros(256, dtype=np.uint32)\n",
        "    total = 0\n",
        "    ret_buf = np.zeros((width, height, 1), dtype=np.uint8)\n",
        "\n",
        "    for i in range(height):\n",
        "        for j in range(width):\n",
        "            total = total + img_buf[i][j][0]\n",
        "            w_pHistBuf[img_buf[i][j][0]] += 1\n",
        "    diff = (int)(shift - (total / (width * height)))\n",
        "    w_pHistBuf = np.zeros(256, dtype=np.uint32)\n",
        "\n",
        "    for i in range(height):\n",
        "        for j in range(width):\n",
        "            tmp = img_buf[i][j][0] + diff\n",
        "            if (tmp > 255):\n",
        "                tmp = 255\n",
        "            elif (tmp < 0):\n",
        "                tmp = 0\n",
        "            ret_buf[i][j][0] = tmp\n",
        "            w_pHistBuf[tmp] += 1\n",
        "\n",
        "    for i in range(256):\n",
        "        if (w_pHistBuf[i] != 0):\n",
        "            tmp1 = i\n",
        "            break\n",
        "    for i in range(255, 0, -1):\n",
        "        if (w_pHistBuf[i] != 0):\n",
        "            tmp2 = i\n",
        "            break\n",
        "    for i in range(height):\n",
        "        for j in range(width):\n",
        "            ret_buf[i][j][0] = (int)((255 * (ret_buf[i][j][0] - tmp1) / (tmp2 - tmp1)))\n",
        "    \n",
        "    return ret_buf\n",
        "\n",
        "for i in range(img_data.shape[0]):\n",
        "    img_tmp = hist_stretch(img_data[i], 160, 160, 128)\n",
        "    img_data[i] = img_tmp\n",
        "    \n",
        "for i in range(img_real.shape[0]):\n",
        "    img_tmp = hist_stretch(img_real[i], 160, 160, 128)\n",
        "    img_real[i] = img_tmp"
      ],
      "metadata": {
        "id": "PbkNQlND_DeL"
      },
      "execution_count": null,
      "outputs": []
    },
    {
      "cell_type": "markdown",
      "source": [
        "# **Train-Test Split**"
      ],
      "metadata": {
        "id": "awCRQTQa_YKc"
      }
    },
    {
      "cell_type": "code",
      "source": [
        "img_train, img_val, label_train, label_val = train_test_split(img_data, label_data, test_size = 0.1)\n",
        "print(img_data.shape, label_data.shape)\n",
        "print(img_train.shape, label_train.shape)\n",
        "print(img_val.shape, label_val.shape)"
      ],
      "metadata": {
        "colab": {
          "base_uri": "https://localhost:8080/"
        },
        "id": "GlmIxjEV_cnK",
        "outputId": "830ce1cf-5c6f-4d7f-9329-ac4af13de45d"
      },
      "execution_count": null,
      "outputs": [
        {
          "output_type": "stream",
          "name": "stdout",
          "text": [
            "(800, 160, 160, 1) (800, 1)\n",
            "(720, 160, 160, 1) (720, 1)\n",
            "(80, 160, 160, 1) (80, 1)\n"
          ]
        }
      ]
    },
    {
      "cell_type": "markdown",
      "source": [
        "# **Build Model**"
      ],
      "metadata": {
        "id": "kaqdoz6mD3F4"
      }
    },
    {
      "cell_type": "code",
      "source": [
        "def build_model():\n",
        "    x1 = layers.Input(shape = (160, 160, 1))\n",
        "    x2 = layers.Input(shape = (160, 160, 1))\n",
        "\n",
        "    inputs = layers.Input(shape = (160, 160, 1))\n",
        "    feature = layers.Conv2D(32, kernel_size = 3, activation = 'relu')(inputs)\n",
        "    feature = layers.MaxPooling2D(pool_size = 2)(feature)\n",
        "    feature = layers.Conv2D(64, kernel_size = 3, activation = 'relu')(feature)\n",
        "    feature = layers.MaxPooling2D(pool_size = 2)(feature)\n",
        "    feature = layers.Conv2D(128, kernel_size = 3, activation = 'relu')(feature)\n",
        "    feature = layers.MaxPooling2D(pool_size = 2)(feature)\n",
        "    feature_model = Model(inputs = inputs, outputs = feature)\n",
        "\n",
        "    feature_model.summary()\n",
        "\n",
        "    x1_net = feature_model(x1)\n",
        "    x2_net = feature_model(x2)\n",
        "\n",
        "    net = layers.Subtract()([x1_net, x2_net])\n",
        "    net = layers.Conv2D(128, kernel_size = 3, activation = 'relu')(net)\n",
        "    net = layers.MaxPooling2D(pool_size = 2)(net)\n",
        "    net = layers.Flatten()(net)\n",
        "    net = layers.Dropout(0.3)(net)\n",
        "    net = layers.Dense(512, activation = 'relu')(net)\n",
        "    net = layers.Dense(1, activation = 'sigmoid')(net)\n",
        "    model = Model(inputs = [x1, x2], outputs = net)\n",
        "\n",
        "    model.compile(loss = 'binary_crossentropy', optimizer = optimizers.RMSprop(lr=1e-4), metrics = ['acc'])\n",
        "\n",
        "    model.summary()\n",
        "\n",
        "    return (model, feature_model)"
      ],
      "metadata": {
        "id": "jco0rs3WD5qa"
      },
      "execution_count": null,
      "outputs": []
    },
    {
      "cell_type": "markdown",
      "source": [
        "# **Data Degenerator**"
      ],
      "metadata": {
        "id": "VL1VXZxnARy7"
      }
    },
    {
      "cell_type": "code",
      "source": [
        "class DataGenerator(keras.utils.Sequence):\n",
        "    def __init__(self, img_data, label_data, img_real, label_real, batch_size = 32, shuffle = True):\n",
        "        self.img_data = img_data\n",
        "        self.label_data = label_data\n",
        "        self.img_real = img_real\n",
        "        self.label_real = label_real\n",
        "        self.batch_size = batch_size\n",
        "        self.shuffle = shuffle\n",
        "        self.on_epoch_end()\n",
        "\n",
        "    def __len__(self):\n",
        "        return int(np.floor(len(self.img_data) / self.batch_size) * 2)\n",
        "\n",
        "    def __getitem__(self, index):\n",
        "        real_idx = index\n",
        "        index = int(np.floor(index / 2))\n",
        "        img1_batch = self.img_data[index * self.batch_size : (index + 1) * self.batch_size]\n",
        "        label1_batch = self.label_data[index * self.batch_size : (index + 1) * self.batch_size]\n",
        "        img2_batch = np.empty((self.batch_size, 160, 160, 1), dtype = np.float32)\n",
        "        label2_batch = np.zeros((self.batch_size, 1), dtype = np.float32)\n",
        "\n",
        "        for i, idx in enumerate(label1_batch):\n",
        "            if random.random() > 0.5:\n",
        "                img2_batch[i] = self.img_real[idx]\n",
        "                label2_batch[i] = 1.\n",
        "            else:\n",
        "                while True:\n",
        "                    unmatch_idx = random.choice(list(self.label_real))\n",
        "                    if (unmatch_idx != idx):\n",
        "                        break\n",
        "\n",
        "                img2_batch[i] = self.img_real[unmatch_idx]\n",
        "                label2_batch[i] = 0.\n",
        "                \n",
        "        index = real_idx\n",
        "        if (index < int(np.floor(len(self.img_data) / self.batch_size))):\n",
        "            return [img1_batch.astype(np.float32) / 255., img2_batch.astype(np.float32) / 255.], label2_batch\n",
        "        \n",
        "        return [img2_batch.astype(np.float32) / 255., img1_batch.astype(np.float32) / 255.], label2_batch\n",
        "\n",
        "    def on_epoch_end(self):\n",
        "        if self.shuffle == True:\n",
        "            self.img_data, self.label_data = shuffle(self.img_data, self.label_data)"
      ],
      "metadata": {
        "id": "ZoIE31s9AVg0"
      },
      "execution_count": null,
      "outputs": []
    },
    {
      "cell_type": "markdown",
      "source": [
        "# **Prepare Generator**"
      ],
      "metadata": {
        "id": "AVPBJz-4AoXG"
      }
    },
    {
      "cell_type": "code",
      "source": [
        "train_gen = DataGenerator(img_train, label_train, img_real, label_real, shuffle = True)\n",
        "val_gen = DataGenerator(img_val, label_val, img_real, label_real, shuffle = True)"
      ],
      "metadata": {
        "id": "O7nHxyXJAtXR"
      },
      "execution_count": null,
      "outputs": []
    },
    {
      "cell_type": "markdown",
      "source": [
        "# **CheckPoint**"
      ],
      "metadata": {
        "id": "mDPjZmy8BSQw"
      }
    },
    {
      "cell_type": "code",
      "source": [
        "!unzip \"/content/drive/MyDrive/results.zip\" -d \"Local\""
      ],
      "metadata": {
        "colab": {
          "base_uri": "https://localhost:8080/"
        },
        "id": "xFPmfnBHC7e_",
        "outputId": "6a852ca3-6dfa-4643-8860-8e9ab94ca182"
      },
      "execution_count": null,
      "outputs": [
        {
          "output_type": "stream",
          "name": "stdout",
          "text": [
            "Archive:  /content/drive/MyDrive/results.zip\n",
            "  inflating: Local/__results___files/__results___24_0.png  \n",
            "  inflating: Local/__results___files/__results___24_1.png  \n",
            "  inflating: Local/__results___files/__results___28_1.png  \n",
            "  inflating: Local/logs/train/20200413-153740/train/events.out.tfevents.1586792263.f502d6f0187b.13.410.v2  \n",
            "  inflating: Local/logs/train/20200413-153740/train/events.out.tfevents.1586792268.f502d6f0187b.profile-empty  \n",
            "  inflating: Local/logs/train/20200413-153740/train/plugins/profile/2020-04-13_15-37-48/local.trace  \n",
            "  inflating: Local/logs/train/20200413-153740/validation/events.out.tfevents.1586792270.f502d6f0187b.13.2160.v2  \n",
            "  inflating: Local/model/checkpoint/checkpoint  \n",
            "  inflating: Local/model/checkpoint/cp.ckpt.data-00000-of-00002  \n",
            "  inflating: Local/model/checkpoint/cp.ckpt.data-00001-of-00002  \n",
            "  inflating: Local/model/checkpoint/cp.ckpt.index  \n",
            "  inflating: Local/model/fp160.h5    \n",
            "  inflating: Local/model/fp160_feature.h5  \n"
          ]
        }
      ]
    },
    {
      "cell_type": "code",
      "source": [
        "checkpoint_path = '/content/Local/model/checkpoint/cp.ckpt.index'\n",
        "checkpoint_dir = os.path.dirname(checkpoint_path)\n",
        "cp_callback = tf.keras.callbacks.ModelCheckpoint(filepath = checkpoint_path, save_weights_only = True, verbose = 1)"
      ],
      "metadata": {
        "id": "3rU5gRQsBVPg"
      },
      "execution_count": null,
      "outputs": []
    },
    {
      "cell_type": "code",
      "source": [
        "checkpoint_path"
      ],
      "metadata": {
        "colab": {
          "base_uri": "https://localhost:8080/",
          "height": 36
        },
        "id": "Y2MLpJD-BY_C",
        "outputId": "9d42e79a-9eb7-4e81-c390-48d0b1fb142c"
      },
      "execution_count": null,
      "outputs": [
        {
          "output_type": "execute_result",
          "data": {
            "text/plain": [
              "'/content/Local/model/checkpoint/cp.ckpt.index'"
            ],
            "application/vnd.google.colaboratory.intrinsic+json": {
              "type": "string"
            }
          },
          "metadata": {},
          "execution_count": 21
        }
      ]
    },
    {
      "cell_type": "markdown",
      "source": [
        "# **TensorBoard**"
      ],
      "metadata": {
        "id": "xMB7aoDcDT-0"
      }
    },
    {
      "cell_type": "code",
      "source": [
        "tfb_log_dir = '/content/Local/logs/train' + datetime.datetime.now().strftime('%Y%m%d-%H%M%S')\n",
        "tensorboard_callback = tf.keras.callbacks.TensorBoard(log_dir = tfb_log_dir, histogram_freq = 1)"
      ],
      "metadata": {
        "id": "tSkS56YnDRrc"
      },
      "execution_count": null,
      "outputs": []
    },
    {
      "cell_type": "markdown",
      "source": [
        "# **Preapare Training**"
      ],
      "metadata": {
        "id": "oRlWhit0DjBo"
      }
    },
    {
      "cell_type": "code",
      "source": [
        "(model, feature_model) = build_model()\n",
        "if (os.path.exists(checkpoint_path + '.index')):\n",
        "    print('continue training')\n",
        "    model.load_weights(checkpoint_path)"
      ],
      "metadata": {
        "colab": {
          "base_uri": "https://localhost:8080/"
        },
        "id": "UKL9jJ-CDRsf",
        "outputId": "46131ffa-a21f-40ae-b598-55fd631c5555"
      },
      "execution_count": null,
      "outputs": [
        {
          "output_type": "stream",
          "name": "stdout",
          "text": [
            "Model: \"model\"\n",
            "_________________________________________________________________\n",
            " Layer (type)                Output Shape              Param #   \n",
            "=================================================================\n",
            " input_3 (InputLayer)        [(None, 160, 160, 1)]     0         \n",
            "                                                                 \n",
            " conv2d (Conv2D)             (None, 158, 158, 32)      320       \n",
            "                                                                 \n",
            " max_pooling2d (MaxPooling2D  (None, 79, 79, 32)       0         \n",
            " )                                                               \n",
            "                                                                 \n",
            " conv2d_1 (Conv2D)           (None, 77, 77, 64)        18496     \n",
            "                                                                 \n",
            " max_pooling2d_1 (MaxPooling  (None, 38, 38, 64)       0         \n",
            " 2D)                                                             \n",
            "                                                                 \n",
            " conv2d_2 (Conv2D)           (None, 36, 36, 128)       73856     \n",
            "                                                                 \n",
            " max_pooling2d_2 (MaxPooling  (None, 18, 18, 128)      0         \n",
            " 2D)                                                             \n",
            "                                                                 \n",
            "=================================================================\n",
            "Total params: 92,672\n",
            "Trainable params: 92,672\n",
            "Non-trainable params: 0\n",
            "_________________________________________________________________\n",
            "Model: \"model_1\"\n",
            "__________________________________________________________________________________________________\n",
            " Layer (type)                   Output Shape         Param #     Connected to                     \n",
            "==================================================================================================\n",
            " input_1 (InputLayer)           [(None, 160, 160, 1  0           []                               \n",
            "                                )]                                                                \n",
            "                                                                                                  \n",
            " input_2 (InputLayer)           [(None, 160, 160, 1  0           []                               \n",
            "                                )]                                                                \n",
            "                                                                                                  \n",
            " model (Functional)             (None, 18, 18, 128)  92672       ['input_1[0][0]',                \n",
            "                                                                  'input_2[0][0]']                \n",
            "                                                                                                  \n",
            " subtract (Subtract)            (None, 18, 18, 128)  0           ['model[0][0]',                  \n",
            "                                                                  'model[1][0]']                  \n",
            "                                                                                                  \n",
            " conv2d_3 (Conv2D)              (None, 16, 16, 128)  147584      ['subtract[0][0]']               \n",
            "                                                                                                  \n",
            " max_pooling2d_3 (MaxPooling2D)  (None, 8, 8, 128)   0           ['conv2d_3[0][0]']               \n",
            "                                                                                                  \n",
            " flatten (Flatten)              (None, 8192)         0           ['max_pooling2d_3[0][0]']        \n",
            "                                                                                                  \n",
            " dropout (Dropout)              (None, 8192)         0           ['flatten[0][0]']                \n",
            "                                                                                                  \n",
            " dense (Dense)                  (None, 512)          4194816     ['dropout[0][0]']                \n",
            "                                                                                                  \n",
            " dense_1 (Dense)                (None, 1)            513         ['dense[0][0]']                  \n",
            "                                                                                                  \n",
            "==================================================================================================\n",
            "Total params: 4,435,585\n",
            "Trainable params: 4,435,585\n",
            "Non-trainable params: 0\n",
            "__________________________________________________________________________________________________\n"
          ]
        },
        {
          "output_type": "stream",
          "name": "stderr",
          "text": [
            "/usr/local/lib/python3.7/dist-packages/keras/optimizer_v2/rmsprop.py:130: UserWarning: The `lr` argument is deprecated, use `learning_rate` instead.\n",
            "  super(RMSprop, self).__init__(name, **kwargs)\n"
          ]
        }
      ]
    },
    {
      "cell_type": "markdown",
      "source": [
        "# **Training**"
      ],
      "metadata": {
        "id": "3XT4JhPSEGLp"
      }
    },
    {
      "cell_type": "code",
      "source": [
        "history = model.fit(train_gen, epochs = 100, validation_data = val_gen, callbacks = [cp_callback, tensorboard_callback])"
      ],
      "metadata": {
        "colab": {
          "base_uri": "https://localhost:8080/"
        },
        "id": "GLcqdagBEI88",
        "outputId": "898d2b7a-0a7f-4cea-e343-0ad435b4b00b"
      },
      "execution_count": null,
      "outputs": [
        {
          "output_type": "stream",
          "name": "stdout",
          "text": [
            "Epoch 1/100\n",
            "44/44 [==============================] - ETA: 0s - loss: 0.6890 - acc: 0.5249\n",
            "Epoch 1: saving model to /content/Local/model/checkpoint/cp.ckpt.index\n",
            "44/44 [==============================] - 19s 150ms/step - loss: 0.6890 - acc: 0.5249 - val_loss: 0.6761 - val_acc: 0.5312\n",
            "Epoch 2/100\n",
            "44/44 [==============================] - ETA: 0s - loss: 0.6361 - acc: 0.6300\n",
            "Epoch 2: saving model to /content/Local/model/checkpoint/cp.ckpt.index\n",
            "44/44 [==============================] - 6s 136ms/step - loss: 0.6361 - acc: 0.6300 - val_loss: 0.5993 - val_acc: 0.7422\n",
            "Epoch 3/100\n",
            "44/44 [==============================] - ETA: 0s - loss: 0.6043 - acc: 0.6634\n",
            "Epoch 3: saving model to /content/Local/model/checkpoint/cp.ckpt.index\n",
            "44/44 [==============================] - 6s 137ms/step - loss: 0.6043 - acc: 0.6634 - val_loss: 0.6380 - val_acc: 0.6406\n",
            "Epoch 4/100\n",
            "44/44 [==============================] - ETA: 0s - loss: 0.6007 - acc: 0.6697\n",
            "Epoch 4: saving model to /content/Local/model/checkpoint/cp.ckpt.index\n",
            "44/44 [==============================] - 6s 137ms/step - loss: 0.6007 - acc: 0.6697 - val_loss: 0.5766 - val_acc: 0.7500\n",
            "Epoch 5/100\n",
            "44/44 [==============================] - ETA: 0s - loss: 0.5839 - acc: 0.6903\n",
            "Epoch 5: saving model to /content/Local/model/checkpoint/cp.ckpt.index\n",
            "44/44 [==============================] - 6s 136ms/step - loss: 0.5839 - acc: 0.6903 - val_loss: 0.6102 - val_acc: 0.6484\n",
            "Epoch 6/100\n",
            "44/44 [==============================] - ETA: 0s - loss: 0.5648 - acc: 0.6925\n",
            "Epoch 6: saving model to /content/Local/model/checkpoint/cp.ckpt.index\n",
            "44/44 [==============================] - 6s 137ms/step - loss: 0.5648 - acc: 0.6925 - val_loss: 0.5790 - val_acc: 0.7031\n",
            "Epoch 7/100\n",
            "44/44 [==============================] - ETA: 0s - loss: 0.5498 - acc: 0.7124\n",
            "Epoch 7: saving model to /content/Local/model/checkpoint/cp.ckpt.index\n",
            "44/44 [==============================] - 6s 138ms/step - loss: 0.5498 - acc: 0.7124 - val_loss: 0.6763 - val_acc: 0.6016\n",
            "Epoch 8/100\n",
            "44/44 [==============================] - ETA: 0s - loss: 0.5277 - acc: 0.7188\n",
            "Epoch 8: saving model to /content/Local/model/checkpoint/cp.ckpt.index\n",
            "44/44 [==============================] - 6s 135ms/step - loss: 0.5277 - acc: 0.7188 - val_loss: 0.6012 - val_acc: 0.7188\n",
            "Epoch 9/100\n",
            "44/44 [==============================] - ETA: 0s - loss: 0.5474 - acc: 0.7003\n",
            "Epoch 9: saving model to /content/Local/model/checkpoint/cp.ckpt.index\n",
            "44/44 [==============================] - 6s 136ms/step - loss: 0.5474 - acc: 0.7003 - val_loss: 0.5693 - val_acc: 0.7031\n",
            "Epoch 10/100\n",
            "44/44 [==============================] - ETA: 0s - loss: 0.5409 - acc: 0.7145\n",
            "Epoch 10: saving model to /content/Local/model/checkpoint/cp.ckpt.index\n",
            "44/44 [==============================] - 6s 139ms/step - loss: 0.5409 - acc: 0.7145 - val_loss: 0.5688 - val_acc: 0.6641\n",
            "Epoch 11/100\n",
            "44/44 [==============================] - ETA: 0s - loss: 0.5280 - acc: 0.7237\n",
            "Epoch 11: saving model to /content/Local/model/checkpoint/cp.ckpt.index\n",
            "44/44 [==============================] - 6s 138ms/step - loss: 0.5280 - acc: 0.7237 - val_loss: 0.5824 - val_acc: 0.7266\n",
            "Epoch 12/100\n",
            "44/44 [==============================] - ETA: 0s - loss: 0.5092 - acc: 0.7379\n",
            "Epoch 12: saving model to /content/Local/model/checkpoint/cp.ckpt.index\n",
            "44/44 [==============================] - 6s 135ms/step - loss: 0.5092 - acc: 0.7379 - val_loss: 0.5128 - val_acc: 0.7344\n",
            "Epoch 13/100\n",
            "44/44 [==============================] - ETA: 0s - loss: 0.5261 - acc: 0.7266\n",
            "Epoch 13: saving model to /content/Local/model/checkpoint/cp.ckpt.index\n",
            "44/44 [==============================] - 6s 136ms/step - loss: 0.5261 - acc: 0.7266 - val_loss: 0.5007 - val_acc: 0.7578\n",
            "Epoch 14/100\n",
            "44/44 [==============================] - ETA: 0s - loss: 0.5007 - acc: 0.7422\n",
            "Epoch 14: saving model to /content/Local/model/checkpoint/cp.ckpt.index\n",
            "44/44 [==============================] - 6s 136ms/step - loss: 0.5007 - acc: 0.7422 - val_loss: 0.4874 - val_acc: 0.7188\n",
            "Epoch 15/100\n",
            "44/44 [==============================] - ETA: 0s - loss: 0.5019 - acc: 0.7322\n",
            "Epoch 15: saving model to /content/Local/model/checkpoint/cp.ckpt.index\n",
            "44/44 [==============================] - 6s 139ms/step - loss: 0.5019 - acc: 0.7322 - val_loss: 0.5423 - val_acc: 0.7266\n",
            "Epoch 16/100\n",
            "44/44 [==============================] - ETA: 0s - loss: 0.4921 - acc: 0.7337\n",
            "Epoch 16: saving model to /content/Local/model/checkpoint/cp.ckpt.index\n",
            "44/44 [==============================] - 6s 136ms/step - loss: 0.4921 - acc: 0.7337 - val_loss: 0.5110 - val_acc: 0.7656\n",
            "Epoch 17/100\n",
            "44/44 [==============================] - ETA: 0s - loss: 0.4618 - acc: 0.7741\n",
            "Epoch 17: saving model to /content/Local/model/checkpoint/cp.ckpt.index\n",
            "44/44 [==============================] - 6s 137ms/step - loss: 0.4618 - acc: 0.7741 - val_loss: 0.4941 - val_acc: 0.7969\n",
            "Epoch 18/100\n",
            "44/44 [==============================] - ETA: 0s - loss: 0.4697 - acc: 0.7678\n",
            "Epoch 18: saving model to /content/Local/model/checkpoint/cp.ckpt.index\n",
            "44/44 [==============================] - 6s 137ms/step - loss: 0.4697 - acc: 0.7678 - val_loss: 0.4715 - val_acc: 0.7500\n",
            "Epoch 19/100\n",
            "44/44 [==============================] - ETA: 0s - loss: 0.4745 - acc: 0.7628\n",
            "Epoch 19: saving model to /content/Local/model/checkpoint/cp.ckpt.index\n",
            "44/44 [==============================] - 6s 137ms/step - loss: 0.4745 - acc: 0.7628 - val_loss: 0.4051 - val_acc: 0.8672\n",
            "Epoch 20/100\n",
            "44/44 [==============================] - ETA: 0s - loss: 0.4575 - acc: 0.7855\n",
            "Epoch 20: saving model to /content/Local/model/checkpoint/cp.ckpt.index\n",
            "44/44 [==============================] - 6s 136ms/step - loss: 0.4575 - acc: 0.7855 - val_loss: 0.5386 - val_acc: 0.7188\n",
            "Epoch 21/100\n",
            "44/44 [==============================] - ETA: 0s - loss: 0.4399 - acc: 0.7940\n",
            "Epoch 21: saving model to /content/Local/model/checkpoint/cp.ckpt.index\n",
            "44/44 [==============================] - 6s 139ms/step - loss: 0.4399 - acc: 0.7940 - val_loss: 0.3921 - val_acc: 0.8047\n",
            "Epoch 22/100\n",
            "44/44 [==============================] - ETA: 0s - loss: 0.4301 - acc: 0.7848\n",
            "Epoch 22: saving model to /content/Local/model/checkpoint/cp.ckpt.index\n",
            "44/44 [==============================] - 6s 138ms/step - loss: 0.4301 - acc: 0.7848 - val_loss: 0.4625 - val_acc: 0.8047\n",
            "Epoch 23/100\n",
            "44/44 [==============================] - ETA: 0s - loss: 0.4054 - acc: 0.8097\n",
            "Epoch 23: saving model to /content/Local/model/checkpoint/cp.ckpt.index\n",
            "44/44 [==============================] - 6s 139ms/step - loss: 0.4054 - acc: 0.8097 - val_loss: 0.4252 - val_acc: 0.7734\n",
            "Epoch 24/100\n",
            "44/44 [==============================] - ETA: 0s - loss: 0.4159 - acc: 0.8004\n",
            "Epoch 24: saving model to /content/Local/model/checkpoint/cp.ckpt.index\n",
            "44/44 [==============================] - 6s 138ms/step - loss: 0.4159 - acc: 0.8004 - val_loss: 0.4076 - val_acc: 0.7656\n",
            "Epoch 25/100\n",
            "44/44 [==============================] - ETA: 0s - loss: 0.3838 - acc: 0.8267\n",
            "Epoch 25: saving model to /content/Local/model/checkpoint/cp.ckpt.index\n",
            "44/44 [==============================] - 6s 139ms/step - loss: 0.3838 - acc: 0.8267 - val_loss: 0.4623 - val_acc: 0.7812\n",
            "Epoch 26/100\n",
            "44/44 [==============================] - ETA: 0s - loss: 0.3904 - acc: 0.8132\n",
            "Epoch 26: saving model to /content/Local/model/checkpoint/cp.ckpt.index\n",
            "44/44 [==============================] - 6s 137ms/step - loss: 0.3904 - acc: 0.8132 - val_loss: 0.4200 - val_acc: 0.7891\n",
            "Epoch 27/100\n",
            "44/44 [==============================] - ETA: 0s - loss: 0.3704 - acc: 0.8310\n",
            "Epoch 27: saving model to /content/Local/model/checkpoint/cp.ckpt.index\n",
            "44/44 [==============================] - 6s 137ms/step - loss: 0.3704 - acc: 0.8310 - val_loss: 0.4231 - val_acc: 0.7812\n",
            "Epoch 28/100\n",
            "44/44 [==============================] - ETA: 0s - loss: 0.3458 - acc: 0.8501\n",
            "Epoch 28: saving model to /content/Local/model/checkpoint/cp.ckpt.index\n",
            "44/44 [==============================] - 6s 138ms/step - loss: 0.3458 - acc: 0.8501 - val_loss: 0.3706 - val_acc: 0.8516\n",
            "Epoch 29/100\n",
            "44/44 [==============================] - ETA: 0s - loss: 0.3426 - acc: 0.8530\n",
            "Epoch 29: saving model to /content/Local/model/checkpoint/cp.ckpt.index\n",
            "44/44 [==============================] - 6s 136ms/step - loss: 0.3426 - acc: 0.8530 - val_loss: 0.4206 - val_acc: 0.7969\n",
            "Epoch 30/100\n",
            "44/44 [==============================] - ETA: 0s - loss: 0.3415 - acc: 0.8416\n",
            "Epoch 30: saving model to /content/Local/model/checkpoint/cp.ckpt.index\n",
            "44/44 [==============================] - 6s 136ms/step - loss: 0.3415 - acc: 0.8416 - val_loss: 0.2736 - val_acc: 0.8984\n",
            "Epoch 31/100\n",
            "44/44 [==============================] - ETA: 0s - loss: 0.3291 - acc: 0.8509\n",
            "Epoch 31: saving model to /content/Local/model/checkpoint/cp.ckpt.index\n",
            "44/44 [==============================] - 6s 138ms/step - loss: 0.3291 - acc: 0.8509 - val_loss: 0.3888 - val_acc: 0.7812\n",
            "Epoch 32/100\n",
            "44/44 [==============================] - ETA: 0s - loss: 0.3424 - acc: 0.8544\n",
            "Epoch 32: saving model to /content/Local/model/checkpoint/cp.ckpt.index\n",
            "44/44 [==============================] - 6s 137ms/step - loss: 0.3424 - acc: 0.8544 - val_loss: 0.3757 - val_acc: 0.8438\n",
            "Epoch 33/100\n",
            "44/44 [==============================] - ETA: 0s - loss: 0.3119 - acc: 0.8636\n",
            "Epoch 33: saving model to /content/Local/model/checkpoint/cp.ckpt.index\n",
            "44/44 [==============================] - 6s 138ms/step - loss: 0.3119 - acc: 0.8636 - val_loss: 0.3523 - val_acc: 0.8359\n",
            "Epoch 34/100\n",
            "44/44 [==============================] - ETA: 0s - loss: 0.3070 - acc: 0.8636\n",
            "Epoch 34: saving model to /content/Local/model/checkpoint/cp.ckpt.index\n",
            "44/44 [==============================] - 6s 136ms/step - loss: 0.3070 - acc: 0.8636 - val_loss: 0.3574 - val_acc: 0.8047\n",
            "Epoch 35/100\n",
            "44/44 [==============================] - ETA: 0s - loss: 0.2791 - acc: 0.8878\n",
            "Epoch 35: saving model to /content/Local/model/checkpoint/cp.ckpt.index\n",
            "44/44 [==============================] - 6s 137ms/step - loss: 0.2791 - acc: 0.8878 - val_loss: 0.3001 - val_acc: 0.8750\n",
            "Epoch 36/100\n",
            "44/44 [==============================] - ETA: 0s - loss: 0.2623 - acc: 0.8920\n",
            "Epoch 36: saving model to /content/Local/model/checkpoint/cp.ckpt.index\n",
            "44/44 [==============================] - 6s 136ms/step - loss: 0.2623 - acc: 0.8920 - val_loss: 0.3106 - val_acc: 0.8672\n",
            "Epoch 37/100\n",
            "44/44 [==============================] - ETA: 0s - loss: 0.2662 - acc: 0.8828\n",
            "Epoch 37: saving model to /content/Local/model/checkpoint/cp.ckpt.index\n",
            "44/44 [==============================] - 6s 137ms/step - loss: 0.2662 - acc: 0.8828 - val_loss: 0.2721 - val_acc: 0.8750\n",
            "Epoch 38/100\n",
            "44/44 [==============================] - ETA: 0s - loss: 0.2455 - acc: 0.9062\n",
            "Epoch 38: saving model to /content/Local/model/checkpoint/cp.ckpt.index\n",
            "44/44 [==============================] - 6s 138ms/step - loss: 0.2455 - acc: 0.9062 - val_loss: 0.2897 - val_acc: 0.8750\n",
            "Epoch 39/100\n",
            "44/44 [==============================] - ETA: 0s - loss: 0.2730 - acc: 0.8786\n",
            "Epoch 39: saving model to /content/Local/model/checkpoint/cp.ckpt.index\n",
            "44/44 [==============================] - 6s 138ms/step - loss: 0.2730 - acc: 0.8786 - val_loss: 0.3517 - val_acc: 0.7969\n",
            "Epoch 40/100\n",
            "44/44 [==============================] - ETA: 0s - loss: 0.2546 - acc: 0.8963\n",
            "Epoch 40: saving model to /content/Local/model/checkpoint/cp.ckpt.index\n",
            "44/44 [==============================] - 6s 137ms/step - loss: 0.2546 - acc: 0.8963 - val_loss: 0.2288 - val_acc: 0.9297\n",
            "Epoch 41/100\n",
            "44/44 [==============================] - ETA: 0s - loss: 0.2422 - acc: 0.9062\n",
            "Epoch 41: saving model to /content/Local/model/checkpoint/cp.ckpt.index\n",
            "44/44 [==============================] - 6s 137ms/step - loss: 0.2422 - acc: 0.9062 - val_loss: 0.2809 - val_acc: 0.8750\n",
            "Epoch 42/100\n",
            "44/44 [==============================] - ETA: 0s - loss: 0.2340 - acc: 0.9055\n",
            "Epoch 42: saving model to /content/Local/model/checkpoint/cp.ckpt.index\n",
            "44/44 [==============================] - 6s 138ms/step - loss: 0.2340 - acc: 0.9055 - val_loss: 0.1557 - val_acc: 0.9453\n",
            "Epoch 43/100\n",
            "44/44 [==============================] - ETA: 0s - loss: 0.2204 - acc: 0.9119\n",
            "Epoch 43: saving model to /content/Local/model/checkpoint/cp.ckpt.index\n",
            "44/44 [==============================] - 6s 137ms/step - loss: 0.2204 - acc: 0.9119 - val_loss: 0.2290 - val_acc: 0.8906\n",
            "Epoch 44/100\n",
            "44/44 [==============================] - ETA: 0s - loss: 0.2125 - acc: 0.9141\n",
            "Epoch 44: saving model to /content/Local/model/checkpoint/cp.ckpt.index\n",
            "44/44 [==============================] - 6s 137ms/step - loss: 0.2125 - acc: 0.9141 - val_loss: 0.3799 - val_acc: 0.8125\n",
            "Epoch 45/100\n",
            "44/44 [==============================] - ETA: 0s - loss: 0.2012 - acc: 0.9240\n",
            "Epoch 45: saving model to /content/Local/model/checkpoint/cp.ckpt.index\n",
            "44/44 [==============================] - 6s 142ms/step - loss: 0.2012 - acc: 0.9240 - val_loss: 0.3100 - val_acc: 0.8906\n",
            "Epoch 46/100\n",
            "44/44 [==============================] - ETA: 0s - loss: 0.1899 - acc: 0.9325\n",
            "Epoch 46: saving model to /content/Local/model/checkpoint/cp.ckpt.index\n",
            "44/44 [==============================] - 6s 136ms/step - loss: 0.1899 - acc: 0.9325 - val_loss: 0.5225 - val_acc: 0.7734\n",
            "Epoch 47/100\n",
            "44/44 [==============================] - ETA: 0s - loss: 0.1965 - acc: 0.9297\n",
            "Epoch 47: saving model to /content/Local/model/checkpoint/cp.ckpt.index\n",
            "44/44 [==============================] - 6s 138ms/step - loss: 0.1965 - acc: 0.9297 - val_loss: 0.2296 - val_acc: 0.8828\n",
            "Epoch 48/100\n",
            "44/44 [==============================] - ETA: 0s - loss: 0.2005 - acc: 0.9226\n",
            "Epoch 48: saving model to /content/Local/model/checkpoint/cp.ckpt.index\n",
            "44/44 [==============================] - 6s 137ms/step - loss: 0.2005 - acc: 0.9226 - val_loss: 0.1792 - val_acc: 0.9297\n",
            "Epoch 49/100\n",
            "44/44 [==============================] - ETA: 0s - loss: 0.1834 - acc: 0.9325\n",
            "Epoch 49: saving model to /content/Local/model/checkpoint/cp.ckpt.index\n",
            "44/44 [==============================] - 6s 139ms/step - loss: 0.1834 - acc: 0.9325 - val_loss: 0.1845 - val_acc: 0.8984\n",
            "Epoch 50/100\n",
            "44/44 [==============================] - ETA: 0s - loss: 0.1706 - acc: 0.9347\n",
            "Epoch 50: saving model to /content/Local/model/checkpoint/cp.ckpt.index\n",
            "44/44 [==============================] - 6s 138ms/step - loss: 0.1706 - acc: 0.9347 - val_loss: 0.2131 - val_acc: 0.9062\n",
            "Epoch 51/100\n",
            "44/44 [==============================] - ETA: 0s - loss: 0.1842 - acc: 0.9318\n",
            "Epoch 51: saving model to /content/Local/model/checkpoint/cp.ckpt.index\n",
            "44/44 [==============================] - 6s 137ms/step - loss: 0.1842 - acc: 0.9318 - val_loss: 0.2327 - val_acc: 0.9141\n",
            "Epoch 52/100\n",
            "44/44 [==============================] - ETA: 0s - loss: 0.1746 - acc: 0.9332\n",
            "Epoch 52: saving model to /content/Local/model/checkpoint/cp.ckpt.index\n",
            "44/44 [==============================] - 6s 136ms/step - loss: 0.1746 - acc: 0.9332 - val_loss: 0.2358 - val_acc: 0.9219\n",
            "Epoch 53/100\n",
            "44/44 [==============================] - ETA: 0s - loss: 0.1644 - acc: 0.9418\n",
            "Epoch 53: saving model to /content/Local/model/checkpoint/cp.ckpt.index\n",
            "44/44 [==============================] - 6s 139ms/step - loss: 0.1644 - acc: 0.9418 - val_loss: 0.2167 - val_acc: 0.9219\n",
            "Epoch 54/100\n",
            "44/44 [==============================] - ETA: 0s - loss: 0.1745 - acc: 0.9268\n",
            "Epoch 54: saving model to /content/Local/model/checkpoint/cp.ckpt.index\n",
            "44/44 [==============================] - 6s 138ms/step - loss: 0.1745 - acc: 0.9268 - val_loss: 0.1749 - val_acc: 0.9375\n",
            "Epoch 55/100\n",
            "44/44 [==============================] - ETA: 0s - loss: 0.1874 - acc: 0.9304\n",
            "Epoch 55: saving model to /content/Local/model/checkpoint/cp.ckpt.index\n",
            "44/44 [==============================] - 6s 137ms/step - loss: 0.1874 - acc: 0.9304 - val_loss: 0.3109 - val_acc: 0.8359\n",
            "Epoch 56/100\n",
            "44/44 [==============================] - ETA: 0s - loss: 0.1604 - acc: 0.9482\n",
            "Epoch 56: saving model to /content/Local/model/checkpoint/cp.ckpt.index\n",
            "44/44 [==============================] - 6s 136ms/step - loss: 0.1604 - acc: 0.9482 - val_loss: 0.1929 - val_acc: 0.9062\n",
            "Epoch 57/100\n",
            "44/44 [==============================] - ETA: 0s - loss: 0.1617 - acc: 0.9418\n",
            "Epoch 57: saving model to /content/Local/model/checkpoint/cp.ckpt.index\n",
            "44/44 [==============================] - 6s 137ms/step - loss: 0.1617 - acc: 0.9418 - val_loss: 0.2426 - val_acc: 0.9141\n",
            "Epoch 58/100\n",
            "44/44 [==============================] - ETA: 0s - loss: 0.1584 - acc: 0.9453\n",
            "Epoch 58: saving model to /content/Local/model/checkpoint/cp.ckpt.index\n",
            "44/44 [==============================] - 6s 136ms/step - loss: 0.1584 - acc: 0.9453 - val_loss: 0.1639 - val_acc: 0.9062\n",
            "Epoch 59/100\n",
            "44/44 [==============================] - ETA: 0s - loss: 0.1648 - acc: 0.9403\n",
            "Epoch 59: saving model to /content/Local/model/checkpoint/cp.ckpt.index\n",
            "44/44 [==============================] - 6s 136ms/step - loss: 0.1648 - acc: 0.9403 - val_loss: 0.3294 - val_acc: 0.8516\n",
            "Epoch 60/100\n",
            "44/44 [==============================] - ETA: 0s - loss: 0.1420 - acc: 0.9467\n",
            "Epoch 60: saving model to /content/Local/model/checkpoint/cp.ckpt.index\n",
            "44/44 [==============================] - 6s 136ms/step - loss: 0.1420 - acc: 0.9467 - val_loss: 0.2593 - val_acc: 0.8828\n",
            "Epoch 61/100\n",
            "44/44 [==============================] - ETA: 0s - loss: 0.1472 - acc: 0.9524\n",
            "Epoch 61: saving model to /content/Local/model/checkpoint/cp.ckpt.index\n",
            "44/44 [==============================] - 6s 136ms/step - loss: 0.1472 - acc: 0.9524 - val_loss: 0.2053 - val_acc: 0.9219\n",
            "Epoch 62/100\n",
            "44/44 [==============================] - ETA: 0s - loss: 0.1456 - acc: 0.9482\n",
            "Epoch 62: saving model to /content/Local/model/checkpoint/cp.ckpt.index\n",
            "44/44 [==============================] - 6s 136ms/step - loss: 0.1456 - acc: 0.9482 - val_loss: 0.1679 - val_acc: 0.9297\n",
            "Epoch 63/100\n",
            "44/44 [==============================] - ETA: 0s - loss: 0.1337 - acc: 0.9560\n",
            "Epoch 63: saving model to /content/Local/model/checkpoint/cp.ckpt.index\n",
            "44/44 [==============================] - 6s 136ms/step - loss: 0.1337 - acc: 0.9560 - val_loss: 0.1905 - val_acc: 0.9219\n",
            "Epoch 64/100\n",
            "44/44 [==============================] - ETA: 0s - loss: 0.1409 - acc: 0.9510\n",
            "Epoch 64: saving model to /content/Local/model/checkpoint/cp.ckpt.index\n",
            "44/44 [==============================] - 6s 138ms/step - loss: 0.1409 - acc: 0.9510 - val_loss: 0.3664 - val_acc: 0.8516\n",
            "Epoch 65/100\n",
            "44/44 [==============================] - ETA: 0s - loss: 0.1436 - acc: 0.9496\n",
            "Epoch 65: saving model to /content/Local/model/checkpoint/cp.ckpt.index\n",
            "44/44 [==============================] - 6s 136ms/step - loss: 0.1436 - acc: 0.9496 - val_loss: 0.2455 - val_acc: 0.8984\n",
            "Epoch 66/100\n",
            "44/44 [==============================] - ETA: 0s - loss: 0.1282 - acc: 0.9574\n",
            "Epoch 66: saving model to /content/Local/model/checkpoint/cp.ckpt.index\n",
            "44/44 [==============================] - 6s 137ms/step - loss: 0.1282 - acc: 0.9574 - val_loss: 0.1610 - val_acc: 0.9375\n",
            "Epoch 67/100\n",
            "44/44 [==============================] - ETA: 0s - loss: 0.1303 - acc: 0.9538\n",
            "Epoch 67: saving model to /content/Local/model/checkpoint/cp.ckpt.index\n",
            "44/44 [==============================] - 6s 138ms/step - loss: 0.1303 - acc: 0.9538 - val_loss: 0.1701 - val_acc: 0.9297\n",
            "Epoch 68/100\n",
            "44/44 [==============================] - ETA: 0s - loss: 0.1397 - acc: 0.9560\n",
            "Epoch 68: saving model to /content/Local/model/checkpoint/cp.ckpt.index\n",
            "44/44 [==============================] - 6s 136ms/step - loss: 0.1397 - acc: 0.9560 - val_loss: 0.2235 - val_acc: 0.9062\n",
            "Epoch 69/100\n",
            "44/44 [==============================] - ETA: 0s - loss: 0.1214 - acc: 0.9510\n",
            "Epoch 69: saving model to /content/Local/model/checkpoint/cp.ckpt.index\n",
            "44/44 [==============================] - 6s 138ms/step - loss: 0.1214 - acc: 0.9510 - val_loss: 0.3037 - val_acc: 0.8906\n",
            "Epoch 70/100\n",
            "44/44 [==============================] - ETA: 0s - loss: 0.1306 - acc: 0.9624\n",
            "Epoch 70: saving model to /content/Local/model/checkpoint/cp.ckpt.index\n",
            "44/44 [==============================] - 6s 137ms/step - loss: 0.1306 - acc: 0.9624 - val_loss: 0.1871 - val_acc: 0.9141\n",
            "Epoch 71/100\n",
            "44/44 [==============================] - ETA: 0s - loss: 0.1284 - acc: 0.9560\n",
            "Epoch 71: saving model to /content/Local/model/checkpoint/cp.ckpt.index\n",
            "44/44 [==============================] - 6s 138ms/step - loss: 0.1284 - acc: 0.9560 - val_loss: 0.1939 - val_acc: 0.9297\n",
            "Epoch 72/100\n",
            "44/44 [==============================] - ETA: 0s - loss: 0.1337 - acc: 0.9489\n",
            "Epoch 72: saving model to /content/Local/model/checkpoint/cp.ckpt.index\n",
            "44/44 [==============================] - 6s 137ms/step - loss: 0.1337 - acc: 0.9489 - val_loss: 0.1384 - val_acc: 0.9375\n",
            "Epoch 73/100\n",
            "44/44 [==============================] - ETA: 0s - loss: 0.1067 - acc: 0.9645\n",
            "Epoch 73: saving model to /content/Local/model/checkpoint/cp.ckpt.index\n",
            "44/44 [==============================] - 6s 137ms/step - loss: 0.1067 - acc: 0.9645 - val_loss: 0.2355 - val_acc: 0.8906\n",
            "Epoch 74/100\n",
            "44/44 [==============================] - ETA: 0s - loss: 0.1278 - acc: 0.9510\n",
            "Epoch 74: saving model to /content/Local/model/checkpoint/cp.ckpt.index\n",
            "44/44 [==============================] - 6s 137ms/step - loss: 0.1278 - acc: 0.9510 - val_loss: 0.2074 - val_acc: 0.9062\n",
            "Epoch 75/100\n",
            "44/44 [==============================] - ETA: 0s - loss: 0.1229 - acc: 0.9631\n",
            "Epoch 75: saving model to /content/Local/model/checkpoint/cp.ckpt.index\n",
            "44/44 [==============================] - 6s 138ms/step - loss: 0.1229 - acc: 0.9631 - val_loss: 0.3336 - val_acc: 0.8672\n",
            "Epoch 76/100\n",
            "44/44 [==============================] - ETA: 0s - loss: 0.1169 - acc: 0.9638\n",
            "Epoch 76: saving model to /content/Local/model/checkpoint/cp.ckpt.index\n",
            "44/44 [==============================] - 6s 136ms/step - loss: 0.1169 - acc: 0.9638 - val_loss: 0.1545 - val_acc: 0.9531\n",
            "Epoch 77/100\n",
            "44/44 [==============================] - ETA: 0s - loss: 0.1223 - acc: 0.9545\n",
            "Epoch 77: saving model to /content/Local/model/checkpoint/cp.ckpt.index\n",
            "44/44 [==============================] - 6s 139ms/step - loss: 0.1223 - acc: 0.9545 - val_loss: 0.2787 - val_acc: 0.9062\n",
            "Epoch 78/100\n",
            "44/44 [==============================] - ETA: 0s - loss: 0.1067 - acc: 0.9638\n",
            "Epoch 78: saving model to /content/Local/model/checkpoint/cp.ckpt.index\n",
            "44/44 [==============================] - 6s 140ms/step - loss: 0.1067 - acc: 0.9638 - val_loss: 0.1123 - val_acc: 0.9766\n",
            "Epoch 79/100\n",
            "44/44 [==============================] - ETA: 0s - loss: 0.1157 - acc: 0.9567\n",
            "Epoch 79: saving model to /content/Local/model/checkpoint/cp.ckpt.index\n",
            "44/44 [==============================] - 6s 137ms/step - loss: 0.1157 - acc: 0.9567 - val_loss: 0.2807 - val_acc: 0.8672\n",
            "Epoch 80/100\n",
            "44/44 [==============================] - ETA: 0s - loss: 0.1153 - acc: 0.9560\n",
            "Epoch 80: saving model to /content/Local/model/checkpoint/cp.ckpt.index\n",
            "44/44 [==============================] - 6s 140ms/step - loss: 0.1153 - acc: 0.9560 - val_loss: 0.1476 - val_acc: 0.9531\n",
            "Epoch 81/100\n",
            "44/44 [==============================] - ETA: 0s - loss: 0.0917 - acc: 0.9652\n",
            "Epoch 81: saving model to /content/Local/model/checkpoint/cp.ckpt.index\n",
            "44/44 [==============================] - 6s 137ms/step - loss: 0.0917 - acc: 0.9652 - val_loss: 0.2713 - val_acc: 0.8594\n",
            "Epoch 82/100\n",
            "44/44 [==============================] - ETA: 0s - loss: 0.0959 - acc: 0.9609\n",
            "Epoch 82: saving model to /content/Local/model/checkpoint/cp.ckpt.index\n",
            "44/44 [==============================] - 6s 138ms/step - loss: 0.0959 - acc: 0.9609 - val_loss: 0.2779 - val_acc: 0.8828\n",
            "Epoch 83/100\n",
            "44/44 [==============================] - ETA: 0s - loss: 0.0952 - acc: 0.9645\n",
            "Epoch 83: saving model to /content/Local/model/checkpoint/cp.ckpt.index\n",
            "44/44 [==============================] - 6s 138ms/step - loss: 0.0952 - acc: 0.9645 - val_loss: 0.3178 - val_acc: 0.8750\n",
            "Epoch 84/100\n",
            "44/44 [==============================] - ETA: 0s - loss: 0.1110 - acc: 0.9553\n",
            "Epoch 84: saving model to /content/Local/model/checkpoint/cp.ckpt.index\n",
            "44/44 [==============================] - 6s 137ms/step - loss: 0.1110 - acc: 0.9553 - val_loss: 0.2493 - val_acc: 0.8906\n",
            "Epoch 85/100\n",
            "44/44 [==============================] - ETA: 0s - loss: 0.0915 - acc: 0.9624\n",
            "Epoch 85: saving model to /content/Local/model/checkpoint/cp.ckpt.index\n",
            "44/44 [==============================] - 6s 138ms/step - loss: 0.0915 - acc: 0.9624 - val_loss: 0.2018 - val_acc: 0.9219\n",
            "Epoch 86/100\n",
            "44/44 [==============================] - ETA: 0s - loss: 0.0982 - acc: 0.9659\n",
            "Epoch 86: saving model to /content/Local/model/checkpoint/cp.ckpt.index\n",
            "44/44 [==============================] - 6s 137ms/step - loss: 0.0982 - acc: 0.9659 - val_loss: 0.2277 - val_acc: 0.8984\n",
            "Epoch 87/100\n",
            "44/44 [==============================] - ETA: 0s - loss: 0.0946 - acc: 0.9680\n",
            "Epoch 87: saving model to /content/Local/model/checkpoint/cp.ckpt.index\n",
            "44/44 [==============================] - 6s 138ms/step - loss: 0.0946 - acc: 0.9680 - val_loss: 0.1034 - val_acc: 0.9688\n",
            "Epoch 88/100\n",
            "44/44 [==============================] - ETA: 0s - loss: 0.0958 - acc: 0.9673\n",
            "Epoch 88: saving model to /content/Local/model/checkpoint/cp.ckpt.index\n",
            "44/44 [==============================] - 6s 137ms/step - loss: 0.0958 - acc: 0.9673 - val_loss: 0.1794 - val_acc: 0.9062\n",
            "Epoch 89/100\n",
            "44/44 [==============================] - ETA: 0s - loss: 0.1059 - acc: 0.9659\n",
            "Epoch 89: saving model to /content/Local/model/checkpoint/cp.ckpt.index\n",
            "44/44 [==============================] - 6s 138ms/step - loss: 0.1059 - acc: 0.9659 - val_loss: 0.2555 - val_acc: 0.9062\n",
            "Epoch 90/100\n",
            "44/44 [==============================] - ETA: 0s - loss: 0.0985 - acc: 0.9688\n",
            "Epoch 90: saving model to /content/Local/model/checkpoint/cp.ckpt.index\n",
            "44/44 [==============================] - 6s 137ms/step - loss: 0.0985 - acc: 0.9688 - val_loss: 0.2492 - val_acc: 0.9297\n",
            "Epoch 91/100\n",
            "44/44 [==============================] - ETA: 0s - loss: 0.0999 - acc: 0.9638\n",
            "Epoch 91: saving model to /content/Local/model/checkpoint/cp.ckpt.index\n",
            "44/44 [==============================] - 6s 137ms/step - loss: 0.0999 - acc: 0.9638 - val_loss: 0.1854 - val_acc: 0.9375\n",
            "Epoch 92/100\n",
            "44/44 [==============================] - ETA: 0s - loss: 0.0959 - acc: 0.9702\n",
            "Epoch 92: saving model to /content/Local/model/checkpoint/cp.ckpt.index\n",
            "44/44 [==============================] - 6s 137ms/step - loss: 0.0959 - acc: 0.9702 - val_loss: 0.2350 - val_acc: 0.8594\n",
            "Epoch 93/100\n",
            "44/44 [==============================] - ETA: 0s - loss: 0.0931 - acc: 0.9631\n",
            "Epoch 93: saving model to /content/Local/model/checkpoint/cp.ckpt.index\n",
            "44/44 [==============================] - 6s 141ms/step - loss: 0.0931 - acc: 0.9631 - val_loss: 0.1623 - val_acc: 0.9375\n",
            "Epoch 94/100\n",
            "44/44 [==============================] - ETA: 0s - loss: 0.0908 - acc: 0.9702\n",
            "Epoch 94: saving model to /content/Local/model/checkpoint/cp.ckpt.index\n",
            "44/44 [==============================] - 6s 136ms/step - loss: 0.0908 - acc: 0.9702 - val_loss: 0.1640 - val_acc: 0.9297\n",
            "Epoch 95/100\n",
            "44/44 [==============================] - ETA: 0s - loss: 0.0791 - acc: 0.9780\n",
            "Epoch 95: saving model to /content/Local/model/checkpoint/cp.ckpt.index\n",
            "44/44 [==============================] - 6s 138ms/step - loss: 0.0791 - acc: 0.9780 - val_loss: 0.1709 - val_acc: 0.9297\n",
            "Epoch 96/100\n",
            "44/44 [==============================] - ETA: 0s - loss: 0.0821 - acc: 0.9673\n",
            "Epoch 96: saving model to /content/Local/model/checkpoint/cp.ckpt.index\n",
            "44/44 [==============================] - 6s 138ms/step - loss: 0.0821 - acc: 0.9673 - val_loss: 0.1476 - val_acc: 0.9375\n",
            "Epoch 97/100\n",
            "44/44 [==============================] - ETA: 0s - loss: 0.0959 - acc: 0.9659\n",
            "Epoch 97: saving model to /content/Local/model/checkpoint/cp.ckpt.index\n",
            "44/44 [==============================] - 6s 138ms/step - loss: 0.0959 - acc: 0.9659 - val_loss: 0.2033 - val_acc: 0.9297\n",
            "Epoch 98/100\n",
            "44/44 [==============================] - ETA: 0s - loss: 0.1052 - acc: 0.9638\n",
            "Epoch 98: saving model to /content/Local/model/checkpoint/cp.ckpt.index\n",
            "44/44 [==============================] - 6s 142ms/step - loss: 0.1052 - acc: 0.9638 - val_loss: 0.2656 - val_acc: 0.8750\n",
            "Epoch 99/100\n",
            "44/44 [==============================] - ETA: 0s - loss: 0.0740 - acc: 0.9766\n",
            "Epoch 99: saving model to /content/Local/model/checkpoint/cp.ckpt.index\n",
            "44/44 [==============================] - 6s 139ms/step - loss: 0.0740 - acc: 0.9766 - val_loss: 0.1465 - val_acc: 0.9609\n",
            "Epoch 100/100\n",
            "44/44 [==============================] - ETA: 0s - loss: 0.0666 - acc: 0.9787\n",
            "Epoch 100: saving model to /content/Local/model/checkpoint/cp.ckpt.index\n",
            "44/44 [==============================] - 6s 137ms/step - loss: 0.0666 - acc: 0.9787 - val_loss: 0.4543 - val_acc: 0.8672\n"
          ]
        }
      ]
    },
    {
      "cell_type": "markdown",
      "source": [
        "# **Results**"
      ],
      "metadata": {
        "id": "KRJrpR7KF0L_"
      }
    },
    {
      "cell_type": "code",
      "source": [
        "acc = history.history['acc']\n",
        "val_acc = history.history['val_acc']\n",
        "loss = history.history['loss']\n",
        "val_loss = history.history['val_loss']\n",
        "\n",
        "epochs = range(1, len(acc) + 1)\n",
        "\n",
        "plt.plot(epochs, acc, 'bo', label='Training acc')\n",
        "plt.plot(epochs, val_acc, 'b', label='Validation acc')\n",
        "plt.title('Training and validation accuracy')\n",
        "plt.legend()\n",
        "\n",
        "plt.figure()\n",
        "plt.plot(epochs, loss, 'bo', label='Training loss')\n",
        "plt.plot(epochs, val_loss, 'b', label='Validation loss')\n",
        "plt.title('Training and validation loss')\n",
        "plt.legend()\n",
        "\n",
        "plt.show()"
      ],
      "metadata": {
        "colab": {
          "base_uri": "https://localhost:8080/",
          "height": 545
        },
        "id": "qXajCJyBF2KK",
        "outputId": "493dc5f2-ced3-4d5d-96df-b843b1b75040"
      },
      "execution_count": null,
      "outputs": [
        {
          "output_type": "display_data",
          "data": {
            "text/plain": [
              "<Figure size 432x288 with 1 Axes>"
            ],
            "image/png": "[encoded data removed]"
          },
          "metadata": {
            "needs_background": "light"
          }
        },
        {
          "output_type": "display_data",
          "data": {
            "text/plain": [
              "<Figure size 432x288 with 1 Axes>"
            ],
            "image/png": "[encoded data removed]"
          },
          "metadata": {
            "needs_background": "light"
          }
        }
      ]
    },
    {
      "cell_type": "markdown",
      "source": [
        "# **Saving the Model**"
      ],
      "metadata": {
        "id": "gEv2s3S2GHHp"
      }
    },
    {
      "cell_type": "code",
      "source": [
        "model_path = '/content/Local/model/fp160.h5'\n",
        "model_feature_path = '/content/Local/model/fp160_feature.h5'\n",
        "model.save(model_path)\n",
        "feature_model.save(model_feature_path)"
      ],
      "metadata": {
        "id": "Aouxq1SyGJ9f"
      },
      "execution_count": null,
      "outputs": []
    }
  ]
}